{
 "cells": [
  {
   "cell_type": "markdown",
   "id": "40265a23-a23d-4bbf-887d-a7b17f40c4e2",
   "metadata": {},
   "source": [
    "# ALPHABET SOUP PROBLEM"
   ]
  },
  {
   "cell_type": "code",
   "execution_count": 3,
   "id": "10ce311b-7b64-4582-bed7-9335f2090906",
   "metadata": {},
   "outputs": [
    {
     "name": "stdout",
     "output_type": "stream",
     "text": [
      "ehllo\n",
      "acehkr\n"
     ]
    }
   ],
   "source": [
    "def alphabet_soup(word):\n",
    "    letters = list(word)        \n",
    "    letters.sort() #sort the letters alphabetically\n",
    "    return \"\".join(letters) #makes the list become string\n",
    "\n",
    "print (alphabet_soup(\"hello\"))\n",
    "print (alphabet_soup(\"hacker\"))"
   ]
  },
  {
   "cell_type": "markdown",
   "id": "0e56c22a-dcab-4f82-a542-27b46158be8e",
   "metadata": {},
   "source": [
    "# EMOTICON PROBLEM\n"
   ]
  },
  {
   "cell_type": "code",
   "execution_count": 9,
   "id": "3d712f54-a056-4d47-b3b8-2ed7a9131ef3",
   "metadata": {},
   "outputs": [
    {
     "name": "stdout",
     "output_type": "stream",
     "text": [
      "Make me :)\n",
      "I am >:(\n"
     ]
    }
   ],
   "source": [
    "def emoticon(sentence):\n",
    "    d = {\"smile\" : \":)\",\n",
    "         \"grin\" : \":D\",\n",
    "         \"sad\" : \":((\",\n",
    "         \"mad\" : \">:(\"}\n",
    "\n",
    "    words = sentence.split() #makes a list of every word in sentence\n",
    "    new_words = [] #storage of splitted sentence\n",
    "\n",
    "    for w in words: #check each element of list\n",
    "        l = w.lower() #makes every letter in lower case\n",
    "        if l in d: #checks d\n",
    "            new_words.append(d[l]) #replace with emoticon\n",
    "        else:\n",
    "            new_words.append(w) #retain word if not in d\n",
    "\n",
    "    return \" \".join(new_words) #compile the list of words with spaces\n",
    "\n",
    "print(emoticon(\"Make me smile\"))\n",
    "print(emoticon(\"I am mad\"))"
   ]
  },
  {
   "cell_type": "markdown",
   "id": "7cce801d-1492-4db5-b280-9d0b6597196b",
   "metadata": {},
   "source": [
    "# UNPACKING LIST PROBLEM"
   ]
  },
  {
   "cell_type": "code",
   "execution_count": 10,
   "id": "ae4eb8cd-25ba-4afb-b1d8-b0a8be1ea0be",
   "metadata": {},
   "outputs": [
    {
     "name": "stdout",
     "output_type": "stream",
     "text": [
      "first: 1\n",
      "middle: [2, 3, 4, 5]\n",
      "last: 6\n"
     ]
    }
   ],
   "source": [
    "list = [1,2,3,4,5,6]\n",
    "\n",
    "first = list[0]\n",
    "middle = list[1:-1]\n",
    "last = list[-1]\n",
    "\n",
    "print(\"first:\", first)\n",
    "print(\"middle:\", middle)\n",
    "print(\"last:\", last)\n"
   ]
  }
 ],
 "metadata": {
  "kernelspec": {
   "display_name": "Python 3 (ipykernel)",
   "language": "python",
   "name": "python3"
  },
  "language_info": {
   "codemirror_mode": {
    "name": "ipython",
    "version": 3
   },
   "file_extension": ".py",
   "mimetype": "text/x-python",
   "name": "python",
   "nbconvert_exporter": "python",
   "pygments_lexer": "ipython3",
   "version": "3.13.5"
  }
 },
 "nbformat": 4,
 "nbformat_minor": 5
}
